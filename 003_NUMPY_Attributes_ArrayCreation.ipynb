{
 "cells": [
  {
   "cell_type": "markdown",
   "id": "5c5c3899",
   "metadata": {},
   "source": [
    "# Faster operations"
   ]
  },
  {
   "cell_type": "code",
   "execution_count": 3,
   "id": "41f94bfa",
   "metadata": {},
   "outputs": [],
   "source": [
    "import numpy as np\n"
   ]
  },
  {
   "cell_type": "code",
   "execution_count": 5,
   "id": "0d228448",
   "metadata": {},
   "outputs": [],
   "source": [
    "a1 = list (range (25))"
   ]
  },
  {
   "cell_type": "code",
   "execution_count": 6,
   "id": "85f7690a",
   "metadata": {},
   "outputs": [
    {
     "name": "stdout",
     "output_type": "stream",
     "text": [
      "0\n",
      "1\n",
      "2\n",
      "3\n",
      "4\n",
      "5\n",
      "6\n",
      "7\n",
      "8\n",
      "9\n",
      "10\n",
      "11\n",
      "12\n",
      "13\n",
      "14\n",
      "15\n",
      "16\n",
      "17\n",
      "18\n",
      "19\n",
      "20\n",
      "21\n",
      "22\n",
      "23\n",
      "24\n",
      "25\n",
      "26\n",
      "27\n",
      "28\n",
      "29\n",
      "30\n",
      "31\n",
      "32\n",
      "33\n",
      "34\n",
      "35\n",
      "36\n",
      "37\n",
      "38\n",
      "39\n",
      "40\n",
      "41\n",
      "42\n",
      "43\n",
      "44\n",
      "45\n",
      "46\n",
      "47\n",
      "48\n",
      "49\n",
      "50\n",
      "51\n",
      "52\n",
      "53\n",
      "54\n",
      "55\n",
      "56\n",
      "57\n",
      "58\n",
      "59\n",
      "60\n",
      "61\n",
      "62\n",
      "63\n",
      "64\n",
      "65\n",
      "66\n",
      "67\n",
      "68\n",
      "69\n",
      "70\n",
      "71\n",
      "72\n",
      "73\n",
      "74\n",
      "75\n",
      "76\n",
      "77\n",
      "78\n",
      "79\n",
      "80\n",
      "81\n",
      "82\n",
      "83\n",
      "84\n",
      "85\n",
      "86\n",
      "87\n",
      "88\n",
      "89\n",
      "90\n",
      "91\n",
      "92\n",
      "93\n",
      "94\n",
      "95\n",
      "96\n",
      "97\n",
      "98\n",
      "99\n"
     ]
    }
   ],
   "source": [
    "for i in a1:\n",
    "    print (i)"
   ]
  },
  {
   "cell_type": "code",
   "execution_count": 11,
   "id": "8d6ea7ca",
   "metadata": {},
   "outputs": [
    {
     "name": "stdout",
     "output_type": "stream",
     "text": [
      "3.47 µs ± 18.3 ns per loop (mean ± std. dev. of 7 runs, 100,000 loops each)\n"
     ]
    }
   ],
   "source": [
    "%timeit [i* i for i in a1]     #Counting through list"
   ]
  },
  {
   "cell_type": "code",
   "execution_count": 14,
   "id": "d05ac039",
   "metadata": {},
   "outputs": [],
   "source": [
    "a2 = np.arange(100)          # Counting through numpy"
   ]
  },
  {
   "cell_type": "code",
   "execution_count": 22,
   "id": "4b5130c1",
   "metadata": {
    "scrolled": true
   },
   "outputs": [
    {
     "name": "stdout",
     "output_type": "stream",
     "text": [
      "469 ns ± 0.804 ns per loop (mean ± std. dev. of 7 runs, 1,000,000 loops each)\n"
     ]
    }
   ],
   "source": [
    "%timeit [a2*a2]\n"
   ]
  },
  {
   "cell_type": "code",
   "execution_count": null,
   "id": "0a3f82cd",
   "metadata": {},
   "outputs": [],
   "source": [
    "# %timeit[]-magic method inside Jupyter notebook.....No need to write print statement."
   ]
  },
  {
   "cell_type": "code",
   "execution_count": null,
   "id": "30cf3f2b",
   "metadata": {},
   "outputs": [],
   "source": [
    "# Python is slow as it operates step by step. In the backend, numpy is written in C,so it is fast but output is in Python."
   ]
  },
  {
   "cell_type": "markdown",
   "id": "6b517b46",
   "metadata": {},
   "source": [
    "  # Array Attributes"
   ]
  },
  {
   "cell_type": "code",
   "execution_count": 25,
   "id": "da2c8e10",
   "metadata": {},
   "outputs": [],
   "source": [
    "a3 = [10,20,30,40]"
   ]
  },
  {
   "cell_type": "code",
   "execution_count": 26,
   "id": "6dc58888",
   "metadata": {},
   "outputs": [],
   "source": [
    "a4 = np.array(a3)"
   ]
  },
  {
   "cell_type": "code",
   "execution_count": 27,
   "id": "2a0d853d",
   "metadata": {},
   "outputs": [
    {
     "data": {
      "text/plain": [
       "array([10, 20, 30, 40])"
      ]
     },
     "execution_count": 27,
     "metadata": {},
     "output_type": "execute_result"
    }
   ],
   "source": [
    "a4"
   ]
  }
 ],
 "metadata": {
  "kernelspec": {
   "display_name": "Python 3 (ipykernel)",
   "language": "python",
   "name": "python3"
  },
  "language_info": {
   "codemirror_mode": {
    "name": "ipython",
    "version": 3
   },
   "file_extension": ".py",
   "mimetype": "text/x-python",
   "name": "python",
   "nbconvert_exporter": "python",
   "pygments_lexer": "ipython3",
   "version": "3.11.5"
  }
 },
 "nbformat": 4,
 "nbformat_minor": 5
}
