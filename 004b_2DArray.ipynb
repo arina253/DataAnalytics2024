{
 "cells": [
  {
   "cell_type": "markdown",
   "id": "db87d707",
   "metadata": {},
   "source": [
    "   # Creating 2D Array"
   ]
  },
  {
   "cell_type": "code",
   "execution_count": 10,
   "id": "8596f41d",
   "metadata": {},
   "outputs": [],
   "source": [
    "# Using list of lists\n",
    "import numpy as np"
   ]
  },
  {
   "cell_type": "code",
   "execution_count": 6,
   "id": "d81fc73b",
   "metadata": {
    "scrolled": true
   },
   "outputs": [],
   "source": [
    "m = [[0,1,2,3,4,5,6,7,8,9,10,11],[0,1,2,3,4,5,6,7,8,9,10,11]]"
   ]
  },
  {
   "cell_type": "code",
   "execution_count": 2,
   "id": "8be300ed",
   "metadata": {},
   "outputs": [
    {
     "name": "stdout",
     "output_type": "stream",
     "text": [
      "<class 'list'>\n"
     ]
    }
   ],
   "source": [
    "print(type(m))"
   ]
  },
  {
   "cell_type": "code",
   "execution_count": 8,
   "id": "d09e4329",
   "metadata": {
    "scrolled": true
   },
   "outputs": [
    {
     "data": {
      "text/plain": [
       "[[0, 1, 2, 3, 4, 5, 6, 7, 8, 9, 10, 11],\n",
       " [0, 1, 2, 3, 4, 5, 6, 7, 8, 9, 10, 11]]"
      ]
     },
     "execution_count": 8,
     "metadata": {},
     "output_type": "execute_result"
    }
   ],
   "source": [
    "m"
   ]
  },
  {
   "cell_type": "code",
   "execution_count": 11,
   "id": "957423c7",
   "metadata": {
    "scrolled": true
   },
   "outputs": [],
   "source": [
    "m_arr = np.array(m)"
   ]
  },
  {
   "cell_type": "code",
   "execution_count": 12,
   "id": "92dcf03f",
   "metadata": {},
   "outputs": [
    {
     "data": {
      "text/plain": [
       "array([[ 0,  1,  2,  3,  4,  5,  6,  7,  8,  9, 10, 11],\n",
       "       [ 0,  1,  2,  3,  4,  5,  6,  7,  8,  9, 10, 11]])"
      ]
     },
     "execution_count": 12,
     "metadata": {},
     "output_type": "execute_result"
    }
   ],
   "source": [
    "m_arr"
   ]
  },
  {
   "cell_type": "code",
   "execution_count": 13,
   "id": "ed62e47b",
   "metadata": {},
   "outputs": [
    {
     "data": {
      "text/plain": [
       "numpy.ndarray"
      ]
     },
     "execution_count": 13,
     "metadata": {},
     "output_type": "execute_result"
    }
   ],
   "source": [
    "type(m_arr)"
   ]
  },
  {
   "cell_type": "code",
   "execution_count": null,
   "id": "b0ed4265",
   "metadata": {},
   "outputs": [],
   "source": [
    "# Checking the Attributes"
   ]
  },
  {
   "cell_type": "code",
   "execution_count": 14,
   "id": "aa482f89",
   "metadata": {},
   "outputs": [
    {
     "data": {
      "text/plain": [
       "2"
      ]
     },
     "execution_count": 14,
     "metadata": {},
     "output_type": "execute_result"
    }
   ],
   "source": [
    "m_arr.ndim"
   ]
  },
  {
   "cell_type": "code",
   "execution_count": 15,
   "id": "035714fe",
   "metadata": {},
   "outputs": [
    {
     "data": {
      "text/plain": [
       "(2, 12)"
      ]
     },
     "execution_count": 15,
     "metadata": {},
     "output_type": "execute_result"
    }
   ],
   "source": [
    "m_arr.shape"
   ]
  },
  {
   "cell_type": "code",
   "execution_count": 16,
   "id": "7da4f212",
   "metadata": {},
   "outputs": [
    {
     "data": {
      "text/plain": [
       "24"
      ]
     },
     "execution_count": 16,
     "metadata": {},
     "output_type": "execute_result"
    }
   ],
   "source": [
    "m_arr.size            #this will always be a Integer , count of elements"
   ]
  },
  {
   "cell_type": "code",
   "execution_count": 18,
   "id": "2b2a39c4",
   "metadata": {},
   "outputs": [],
   "source": [
    "z = [[0,1,2,3,4,5,6,7,8,9,10,11],[0,1,2,3,4,5,6,7,8,9,10,11],[0,1,2,3,4,5,6,7,8,9,10,11]]"
   ]
  },
  {
   "cell_type": "code",
   "execution_count": 20,
   "id": "104c7fc0",
   "metadata": {},
   "outputs": [],
   "source": [
    "arr4 = np.array(z)"
   ]
  },
  {
   "cell_type": "code",
   "execution_count": 21,
   "id": "10eb3102",
   "metadata": {
    "scrolled": true
   },
   "outputs": [
    {
     "data": {
      "text/plain": [
       "array([[ 0,  1,  2,  3,  4,  5,  6,  7,  8,  9, 10, 11],\n",
       "       [ 0,  1,  2,  3,  4,  5,  6,  7,  8,  9, 10, 11],\n",
       "       [ 0,  1,  2,  3,  4,  5,  6,  7,  8,  9, 10, 11]])"
      ]
     },
     "execution_count": 21,
     "metadata": {},
     "output_type": "execute_result"
    }
   ],
   "source": [
    "arr4"
   ]
  },
  {
   "cell_type": "code",
   "execution_count": 22,
   "id": "eb8d3c82",
   "metadata": {},
   "outputs": [
    {
     "data": {
      "text/plain": [
       "2"
      ]
     },
     "execution_count": 22,
     "metadata": {},
     "output_type": "execute_result"
    }
   ],
   "source": [
    "arr4.ndim"
   ]
  },
  {
   "cell_type": "code",
   "execution_count": 23,
   "id": "2f0ff0d6",
   "metadata": {},
   "outputs": [
    {
     "data": {
      "text/plain": [
       "(3, 12)"
      ]
     },
     "execution_count": 23,
     "metadata": {},
     "output_type": "execute_result"
    }
   ],
   "source": [
    "arr4.shape"
   ]
  },
  {
   "cell_type": "code",
   "execution_count": 24,
   "id": "7a750b81",
   "metadata": {},
   "outputs": [
    {
     "data": {
      "text/plain": [
       "36"
      ]
     },
     "execution_count": 24,
     "metadata": {},
     "output_type": "execute_result"
    }
   ],
   "source": [
    "arr4.size"
   ]
  },
  {
   "cell_type": "code",
   "execution_count": null,
   "id": "f5043cd0",
   "metadata": {},
   "outputs": [],
   "source": []
  },
  {
   "cell_type": "markdown",
   "id": "a4b66dc8",
   "metadata": {},
   "source": [
    " #  Using arange() & reshape()"
   ]
  },
  {
   "cell_type": "code",
   "execution_count": null,
   "id": "ebbe1bc9",
   "metadata": {},
   "outputs": [],
   "source": [
    "# Using reshape() to change the array from 1D to 2D.\n",
    "# Can also be changed to higher dimensions"
   ]
  },
  {
   "cell_type": "code",
   "execution_count": 25,
   "id": "750e650f",
   "metadata": {},
   "outputs": [],
   "source": [
    "arr5 = np.arange(12)"
   ]
  },
  {
   "cell_type": "code",
   "execution_count": 26,
   "id": "89267490",
   "metadata": {},
   "outputs": [
    {
     "data": {
      "text/plain": [
       "array([ 0,  1,  2,  3,  4,  5,  6,  7,  8,  9, 10, 11])"
      ]
     },
     "execution_count": 26,
     "metadata": {},
     "output_type": "execute_result"
    }
   ],
   "source": [
    "arr5"
   ]
  },
  {
   "cell_type": "code",
   "execution_count": 27,
   "id": "405356dd",
   "metadata": {},
   "outputs": [
    {
     "data": {
      "text/plain": [
       "1"
      ]
     },
     "execution_count": 27,
     "metadata": {},
     "output_type": "execute_result"
    }
   ],
   "source": [
    "arr5.ndim"
   ]
  },
  {
   "cell_type": "code",
   "execution_count": 28,
   "id": "ff13d7b5",
   "metadata": {},
   "outputs": [
    {
     "data": {
      "text/plain": [
       "array([[ 0,  1,  2],\n",
       "       [ 3,  4,  5],\n",
       "       [ 6,  7,  8],\n",
       "       [ 9, 10, 11]])"
      ]
     },
     "execution_count": 28,
     "metadata": {},
     "output_type": "execute_result"
    }
   ],
   "source": [
    "arr5.reshape(4,3)"
   ]
  },
  {
   "cell_type": "code",
   "execution_count": 29,
   "id": "02f1279f",
   "metadata": {},
   "outputs": [
    {
     "data": {
      "text/plain": [
       "array([[ 0,  1,  2,  3],\n",
       "       [ 4,  5,  6,  7],\n",
       "       [ 8,  9, 10, 11]])"
      ]
     },
     "execution_count": 29,
     "metadata": {},
     "output_type": "execute_result"
    }
   ],
   "source": [
    "arr5.reshape(3,4)"
   ]
  },
  {
   "cell_type": "code",
   "execution_count": 30,
   "id": "23ccaed2",
   "metadata": {},
   "outputs": [
    {
     "data": {
      "text/plain": [
       "array([[ 0,  1],\n",
       "       [ 2,  3],\n",
       "       [ 4,  5],\n",
       "       [ 6,  7],\n",
       "       [ 8,  9],\n",
       "       [10, 11]])"
      ]
     },
     "execution_count": 30,
     "metadata": {},
     "output_type": "execute_result"
    }
   ],
   "source": [
    "arr5.reshape(6,2)"
   ]
  },
  {
   "cell_type": "code",
   "execution_count": 31,
   "id": "4d330a85",
   "metadata": {},
   "outputs": [
    {
     "data": {
      "text/plain": [
       "array([[ 0,  1,  2,  3,  4,  5],\n",
       "       [ 6,  7,  8,  9, 10, 11]])"
      ]
     },
     "execution_count": 31,
     "metadata": {},
     "output_type": "execute_result"
    }
   ],
   "source": [
    "arr5.reshape(2,6)"
   ]
  },
  {
   "cell_type": "code",
   "execution_count": 32,
   "id": "10f64f2d",
   "metadata": {},
   "outputs": [
    {
     "data": {
      "text/plain": [
       "array([[ 0,  1,  2,  3,  4,  5,  6,  7,  8,  9, 10, 11]])"
      ]
     },
     "execution_count": 32,
     "metadata": {},
     "output_type": "execute_result"
    }
   ],
   "source": [
    "arr5.reshape(1,12)"
   ]
  },
  {
   "cell_type": "code",
   "execution_count": 33,
   "id": "7b459c8b",
   "metadata": {},
   "outputs": [
    {
     "data": {
      "text/plain": [
       "array([[ 0],\n",
       "       [ 1],\n",
       "       [ 2],\n",
       "       [ 3],\n",
       "       [ 4],\n",
       "       [ 5],\n",
       "       [ 6],\n",
       "       [ 7],\n",
       "       [ 8],\n",
       "       [ 9],\n",
       "       [10],\n",
       "       [11]])"
      ]
     },
     "execution_count": 33,
     "metadata": {},
     "output_type": "execute_result"
    }
   ],
   "source": [
    "arr5.reshape(12,1)"
   ]
  },
  {
   "cell_type": "code",
   "execution_count": 34,
   "id": "39743152",
   "metadata": {},
   "outputs": [
    {
     "ename": "ValueError",
     "evalue": "cannot reshape array of size 12 into shape (12,2)",
     "output_type": "error",
     "traceback": [
      "\u001b[1;31m---------------------------------------------------------------------------\u001b[0m",
      "\u001b[1;31mValueError\u001b[0m                                Traceback (most recent call last)",
      "Cell \u001b[1;32mIn[34], line 1\u001b[0m\n\u001b[1;32m----> 1\u001b[0m arr5\u001b[38;5;241m.\u001b[39mreshape(\u001b[38;5;241m12\u001b[39m,\u001b[38;5;241m2\u001b[39m)\n",
      "\u001b[1;31mValueError\u001b[0m: cannot reshape array of size 12 into shape (12,2)"
     ]
    }
   ],
   "source": [
    "arr5.reshape(12,2)         # rows * column = array size"
   ]
  },
  {
   "cell_type": "code",
   "execution_count": 35,
   "id": "01d91761",
   "metadata": {},
   "outputs": [
    {
     "ename": "ValueError",
     "evalue": "cannot reshape array of size 12 into shape (3,3)",
     "output_type": "error",
     "traceback": [
      "\u001b[1;31m---------------------------------------------------------------------------\u001b[0m",
      "\u001b[1;31mValueError\u001b[0m                                Traceback (most recent call last)",
      "Cell \u001b[1;32mIn[35], line 1\u001b[0m\n\u001b[1;32m----> 1\u001b[0m arr5\u001b[38;5;241m.\u001b[39mreshape (\u001b[38;5;241m3\u001b[39m,\u001b[38;5;241m3\u001b[39m)\n",
      "\u001b[1;31mValueError\u001b[0m: cannot reshape array of size 12 into shape (3,3)"
     ]
    }
   ],
   "source": [
    "arr5.reshape (3,3)"
   ]
  },
  {
   "cell_type": "code",
   "execution_count": null,
   "id": "8bce2ca5",
   "metadata": {},
   "outputs": [],
   "source": []
  },
  {
   "cell_type": "markdown",
   "id": "7c9ca915",
   "metadata": {},
   "source": [
    "   # Using linspace() & reshape()"
   ]
  },
  {
   "cell_type": "code",
   "execution_count": null,
   "id": "b8d50ed5",
   "metadata": {},
   "outputs": [],
   "source": [
    "# Using linspace() to change the array from 1D to 2D"
   ]
  },
  {
   "cell_type": "code",
   "execution_count": 36,
   "id": "ccf398ee",
   "metadata": {},
   "outputs": [],
   "source": [
    "arr6 = np.linspace(1,10,15).reshape(3,5)"
   ]
  },
  {
   "cell_type": "code",
   "execution_count": 37,
   "id": "8b7ffda2",
   "metadata": {},
   "outputs": [
    {
     "data": {
      "text/plain": [
       "array([[ 1.        ,  1.64285714,  2.28571429,  2.92857143,  3.57142857],\n",
       "       [ 4.21428571,  4.85714286,  5.5       ,  6.14285714,  6.78571429],\n",
       "       [ 7.42857143,  8.07142857,  8.71428571,  9.35714286, 10.        ]])"
      ]
     },
     "execution_count": 37,
     "metadata": {},
     "output_type": "execute_result"
    }
   ],
   "source": [
    "arr6"
   ]
  },
  {
   "cell_type": "code",
   "execution_count": null,
   "id": "55c25975",
   "metadata": {},
   "outputs": [],
   "source": [
    "# Checking the Attributes"
   ]
  },
  {
   "cell_type": "code",
   "execution_count": 38,
   "id": "4e8f6e91",
   "metadata": {},
   "outputs": [
    {
     "data": {
      "text/plain": [
       "2"
      ]
     },
     "execution_count": 38,
     "metadata": {},
     "output_type": "execute_result"
    }
   ],
   "source": [
    "arr6.ndim\n"
   ]
  },
  {
   "cell_type": "code",
   "execution_count": 39,
   "id": "063b7c8a",
   "metadata": {},
   "outputs": [
    {
     "data": {
      "text/plain": [
       "(3, 5)"
      ]
     },
     "execution_count": 39,
     "metadata": {},
     "output_type": "execute_result"
    }
   ],
   "source": [
    "arr6.shape"
   ]
  },
  {
   "cell_type": "code",
   "execution_count": 40,
   "id": "6c601872",
   "metadata": {},
   "outputs": [
    {
     "data": {
      "text/plain": [
       "15"
      ]
     },
     "execution_count": 40,
     "metadata": {},
     "output_type": "execute_result"
    }
   ],
   "source": [
    "arr6.size\n"
   ]
  },
  {
   "cell_type": "code",
   "execution_count": null,
   "id": "5e7ec61e",
   "metadata": {},
   "outputs": [],
   "source": []
  },
  {
   "cell_type": "code",
   "execution_count": null,
   "id": "e0661c69",
   "metadata": {},
   "outputs": [],
   "source": [
    "# 1D will have one[]\n",
    "# 2D will have [[ ]]\n",
    "# 3D will have [[[ ]]]\n",
    "# By counting the opening square brackets, we can clearly identify the Dimension of Array."
   ]
  },
  {
   "cell_type": "code",
   "execution_count": null,
   "id": "4b2105e2",
   "metadata": {},
   "outputs": [],
   "source": []
  },
  {
   "cell_type": "code",
   "execution_count": null,
   "id": "bc2abd63",
   "metadata": {},
   "outputs": [],
   "source": []
  }
 ],
 "metadata": {
  "kernelspec": {
   "display_name": "Python 3 (ipykernel)",
   "language": "python",
   "name": "python3"
  },
  "language_info": {
   "codemirror_mode": {
    "name": "ipython",
    "version": 3
   },
   "file_extension": ".py",
   "mimetype": "text/x-python",
   "name": "python",
   "nbconvert_exporter": "python",
   "pygments_lexer": "ipython3",
   "version": "3.11.5"
  }
 },
 "nbformat": 4,
 "nbformat_minor": 5
}
