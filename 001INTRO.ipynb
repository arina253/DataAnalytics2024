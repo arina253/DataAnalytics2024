{
 "cells": [
  {
   "cell_type": "markdown",
   "id": "23fd485b",
   "metadata": {},
   "source": [
    "   # INTRO TO JUPYTER NOTEBOOK"
   ]
  },
  {
   "cell_type": "code",
   "execution_count": null,
   "id": "4e0581a4",
   "metadata": {},
   "outputs": [],
   "source": [
    "Number: 9324387590"
   ]
  },
  {
   "cell_type": "code",
   "execution_count": null,
   "id": "a5b3570c",
   "metadata": {},
   "outputs": [],
   "source": [
    "INTRO TO JUPYTER NOTEBOOK\n",
    "# CMD\n",
    "# 2. jupyter notebook > this service/ widow should always be running\n",
    "# 3. default location > http://localhost:8888/tree\n",
    "# 4. / means C:\\ is root Folder\n",
    "# 5. Create a new Python file\n",
    "\n",
    "#Blue color - Command mode\n",
    "#Green color - Edit mode\n",
    "# Keyboard key X - to remove cell\n",
    "# Keyboard key V - to add extra cell\n"
   ]
  },
  {
   "cell_type": "markdown",
   "id": "373cfe22",
   "metadata": {},
   "source": [
    " # INTRO TO NUMPY"
   ]
  },
  {
   "cell_type": "code",
   "execution_count": null,
   "id": "1a012867",
   "metadata": {},
   "outputs": [],
   "source": [
    "# https://numpy.org/doc/stable/user/quickstart.html#an-example"
   ]
  },
  {
   "cell_type": "code",
   "execution_count": 3,
   "id": "1061a34d",
   "metadata": {
    "scrolled": false
   },
   "outputs": [],
   "source": [
    " WHY NUMPY???"
   ]
  },
  {
   "cell_type": "code",
   "execution_count": 3,
   "id": "6e106595",
   "metadata": {},
   "outputs": [
    {
     "name": "stdout",
     "output_type": "stream",
     "text": [
      "[1, 2, 3, 4, 5, 6, 7, 8, 9]\n"
     ]
    }
   ],
   "source": [
    "a1 = [1,2,3,4,5,6,7,8,9]\n",
    "print(a1)\n",
    "\n"
   ]
  },
  {
   "cell_type": "code",
   "execution_count": 6,
   "id": "53ad48c2",
   "metadata": {},
   "outputs": [
    {
     "name": "stdout",
     "output_type": "stream",
     "text": [
      "2\n",
      "4\n",
      "6\n",
      "8\n",
      "10\n",
      "12\n",
      "14\n",
      "16\n",
      "18\n"
     ]
    }
   ],
   "source": [
    "# to double the elements in the list a1\n",
    "for i in a1:\n",
    "    print (i * 2)"
   ]
  },
  {
   "cell_type": "code",
   "execution_count": 7,
   "id": "a1f6f32c",
   "metadata": {},
   "outputs": [
    {
     "name": "stdout",
     "output_type": "stream",
     "text": [
      "[2, 4, 6, 8, 10, 12, 14, 16, 18]\n"
     ]
    }
   ],
   "source": [
    "a2 = [i*2 for i in a1] #list comprehension\n",
    "print(a2)"
   ]
  },
  {
   "cell_type": "code",
   "execution_count": null,
   "id": "3e3cc294",
   "metadata": {},
   "outputs": [],
   "source": [
    "# to square the elements in the list a1"
   ]
  },
  {
   "cell_type": "code",
   "execution_count": 10,
   "id": "84365737",
   "metadata": {},
   "outputs": [
    {
     "name": "stdout",
     "output_type": "stream",
     "text": [
      "[1, 2, 3, 4, 5, 6, 7, 8, 9]\n",
      "1\n",
      "4\n",
      "9\n",
      "16\n",
      "25\n",
      "36\n",
      "49\n",
      "64\n",
      "81\n"
     ]
    }
   ],
   "source": [
    "print(a1)\n",
    "for i in a1:\n",
    "    print(i ** 2)  # ** - power"
   ]
  },
  {
   "cell_type": "code",
   "execution_count": 11,
   "id": "cc2991bf",
   "metadata": {},
   "outputs": [
    {
     "name": "stdout",
     "output_type": "stream",
     "text": [
      "[1, 4, 9, 16, 25, 36, 49, 64, 81]\n"
     ]
    }
   ],
   "source": [
    "a3 = [i**2 for i in a1]\n",
    "print(a3)"
   ]
  },
  {
   "cell_type": "code",
   "execution_count": null,
   "id": "3a96ad55",
   "metadata": {},
   "outputs": [],
   "source": [
    "Better approach??"
   ]
  },
  {
   "cell_type": "code",
   "execution_count": 18,
   "id": "f60b3c26",
   "metadata": {},
   "outputs": [],
   "source": [
    "import numpy as np"
   ]
  },
  {
   "cell_type": "code",
   "execution_count": 12,
   "id": "dcfc5f8b",
   "metadata": {},
   "outputs": [
    {
     "name": "stdout",
     "output_type": "stream",
     "text": [
      "hello world\n"
     ]
    }
   ],
   "source": [
    "print(\"hello world\")"
   ]
  },
  {
   "cell_type": "code",
   "execution_count": 15,
   "id": "35245cce",
   "metadata": {
    "scrolled": true
   },
   "outputs": [
    {
     "name": "stdout",
     "output_type": "stream",
     "text": [
      "arina\n"
     ]
    }
   ],
   "source": [
    "name = \"ARina\"\n",
    "print(name.casefold())"
   ]
  },
  {
   "cell_type": "code",
   "execution_count": 19,
   "id": "dfacda3f",
   "metadata": {
    "scrolled": true
   },
   "outputs": [],
   "source": [
    "arr1 = np.array(a1)\n"
   ]
  },
  {
   "cell_type": "code",
   "execution_count": 20,
   "id": "ac1c4b7f",
   "metadata": {},
   "outputs": [
    {
     "name": "stdout",
     "output_type": "stream",
     "text": [
      "[1 2 3 4 5 6 7 8 9]\n"
     ]
    }
   ],
   "source": [
    "print(arr1)"
   ]
  },
  {
   "cell_type": "code",
   "execution_count": 21,
   "id": "1ee7dbfc",
   "metadata": {},
   "outputs": [
    {
     "name": "stdout",
     "output_type": "stream",
     "text": [
      "[1, 2, 3, 4, 5, 6, 7, 8, 9]\n"
     ]
    }
   ],
   "source": [
    "print(a1)"
   ]
  },
  {
   "cell_type": "code",
   "execution_count": 22,
   "id": "f6ef381f",
   "metadata": {},
   "outputs": [
    {
     "data": {
      "text/plain": [
       "[1, 2, 3, 4, 5, 6, 7, 8, 9, 1, 2, 3, 4, 5, 6, 7, 8, 9]"
      ]
     },
     "execution_count": 22,
     "metadata": {},
     "output_type": "execute_result"
    }
   ],
   "source": [
    "a1*2"
   ]
  },
  {
   "cell_type": "code",
   "execution_count": 23,
   "id": "af6234fd",
   "metadata": {},
   "outputs": [
    {
     "name": "stdout",
     "output_type": "stream",
     "text": [
      "[1, 2, 3, 4, 5, 6, 7, 8, 9, 1, 2, 3, 4, 5, 6, 7, 8, 9]\n"
     ]
    }
   ],
   "source": [
    "print(a1*2)"
   ]
  },
  {
   "cell_type": "code",
   "execution_count": null,
   "id": "884b81f6",
   "metadata": {},
   "outputs": [],
   "source": [
    "print(arr1 * 2) # numpy supports elementwise operation"
   ]
  },
  {
   "cell_type": "code",
   "execution_count": 24,
   "id": "a8cd75dd",
   "metadata": {},
   "outputs": [
    {
     "name": "stdout",
     "output_type": "stream",
     "text": [
      "[ 3  6  9 12 15 18 21 24 27]\n"
     ]
    }
   ],
   "source": [
    "print(arr1 * 3)"
   ]
  }
 ],
 "metadata": {
  "kernelspec": {
   "display_name": "Python 3 (ipykernel)",
   "language": "python",
   "name": "python3"
  },
  "language_info": {
   "codemirror_mode": {
    "name": "ipython",
    "version": 3
   },
   "file_extension": ".py",
   "mimetype": "text/x-python",
   "name": "python",
   "nbconvert_exporter": "python",
   "pygments_lexer": "ipython3",
   "version": "3.11.5"
  }
 },
 "nbformat": 4,
 "nbformat_minor": 5
}
